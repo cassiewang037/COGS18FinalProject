{
 "cells": [
  {
   "cell_type": "code",
   "execution_count": 2,
   "id": "aaf1ddd6",
   "metadata": {},
   "outputs": [
    {
     "name": "stdout",
     "output_type": "stream",
     "text": [
      "How many colors/style does this project have? 2\n"
     ]
    }
   ],
   "source": [
    "from functions import* "
   ]
  },
  {
   "cell_type": "code",
   "execution_count": 3,
   "id": "7b68810f",
   "metadata": {},
   "outputs": [],
   "source": [
    "assert number == '2'"
   ]
  },
  {
   "cell_type": "code",
   "execution_count": 8,
   "id": "877964c6",
   "metadata": {},
   "outputs": [],
   "source": [
    "assert callable(create_catalog)"
   ]
  },
  {
   "cell_type": "code",
   "execution_count": 10,
   "id": "a5137a8c",
   "metadata": {},
   "outputs": [],
   "source": [
    "assert callable(create_order)"
   ]
  },
  {
   "cell_type": "code",
   "execution_count": 11,
   "id": "ce567605",
   "metadata": {},
   "outputs": [],
   "source": [
    "assert callable(create_payment)"
   ]
  },
  {
   "cell_type": "code",
   "execution_count": 12,
   "id": "2867a626",
   "metadata": {},
   "outputs": [],
   "source": [
    "assert callable(compare)"
   ]
  },
  {
   "cell_type": "code",
   "execution_count": 13,
   "id": "f10b8585",
   "metadata": {},
   "outputs": [],
   "source": [
    "assert callable(reminder)"
   ]
  },
  {
   "cell_type": "code",
   "execution_count": null,
   "id": "156b384b",
   "metadata": {},
   "outputs": [],
   "source": []
  }
 ],
 "metadata": {
  "kernelspec": {
   "display_name": "Python 3 (ipykernel)",
   "language": "python",
   "name": "python3"
  },
  "language_info": {
   "codemirror_mode": {
    "name": "ipython",
    "version": 3
   },
   "file_extension": ".py",
   "mimetype": "text/x-python",
   "name": "python",
   "nbconvert_exporter": "python",
   "pygments_lexer": "ipython3",
   "version": "3.9.5"
  }
 },
 "nbformat": 4,
 "nbformat_minor": 5
}
