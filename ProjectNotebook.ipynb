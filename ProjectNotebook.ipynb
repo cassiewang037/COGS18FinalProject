{
 "cells": [
  {
   "cell_type": "markdown",
   "metadata": {},
   "source": [
    "# Project Description"
   ]
  },
  {
   "cell_type": "markdown",
   "metadata": {},
   "source": [
    "Write a brief description of your project here. \n",
    "\n",
    "Note that projects should be self-sufficient, so make sure to provide enough information and context here for someone to understand what you are doing in your project, and why. "
   ]
  },
  {
   "attachments": {},
   "cell_type": "markdown",
   "metadata": {},
   "source": [
    "Recently, I got really into buying League of Ledgens related fan-arts, specifically metal badges. Because it is a very small community, !they have to rely on group chats on Instant Messengers. Even though there are programs that help with adding orders, it is not working for some reasons lately and people who organize them also need external tool like Excel. I decide to come up with my own program.\n",
    "\n",
    "For example, this is to celebrate T1 Faker's great performance on the champion Zilean. The design incorporates many elements of this champion and the logo of the organization T1. There are usually people in the community who will initiate a project and other who are interested can also participate. They will talk to the factories about the design and making mold and samples. \n",
    "[IMG_5119.jpg](attachment:IMG_5119.jpg)"
   ]
  },
  {
   "cell_type": "markdown",
   "metadata": {},
   "source": [
    "Each badges can have different colors or style -- the one I showed have the same design but in red and blue while some have glitters. By first inputing the number of color or style they have, the code can help you create a catalog of color and its price. Then the list of order can be create by inputing how much product in each color the customer wants. Because the fan art involve copyrights, they have to be non-profit. Hence, the fee of paying designer and making badges in the factory is splited among every customer who purchase the product. The returned list is the total price with splited fee. So the customer have to pay the split, including mold and design fee, delivery fee and actual price of the products. When customers make payment, by inputing how much they paid, a list of payment can be created. It does not have to be in the same order as the order list. Another list is created combing two lists if the customer ID is the same. It will send reminder to customer who does not pay the extract price. Since it is in a group chats, in the reminder part of comparing the order and payment, I use '@' so that they can directly copy and paste this in the group chats. "
   ]
  },
  {
   "cell_type": "markdown",
   "metadata": {},
   "source": [
    "## Project Code\n",
    "\n",
    "If it makes sense for your project, you can have code and outputs here in the notebook as well."
   ]
  },
  {
   "cell_type": "code",
   "execution_count": 1,
   "metadata": {},
   "outputs": [
    {
     "name": "stdout",
     "output_type": "stream",
     "text": [
      "How many colors/style does this project have? 2\n"
     ]
    }
   ],
   "source": [
    "from my_module.functions import*"
   ]
  },
  {
   "cell_type": "code",
   "execution_count": 2,
   "metadata": {},
   "outputs": [
    {
     "name": "stdout",
     "output_type": "stream",
     "text": [
      "What color/style it is? red\n",
      "What is the price of product in this color/style? 12\n",
      "What color/style it is? blue\n",
      "What is the price of product in this color/style? 13\n",
      "This is your catalog:\n"
     ]
    },
    {
     "data": {
      "text/html": [
       "<div>\n",
       "<style scoped>\n",
       "    .dataframe tbody tr th:only-of-type {\n",
       "        vertical-align: middle;\n",
       "    }\n",
       "\n",
       "    .dataframe tbody tr th {\n",
       "        vertical-align: top;\n",
       "    }\n",
       "\n",
       "    .dataframe thead th {\n",
       "        text-align: right;\n",
       "    }\n",
       "</style>\n",
       "<table border=\"1\" class=\"dataframe\">\n",
       "  <thead>\n",
       "    <tr style=\"text-align: right;\">\n",
       "      <th></th>\n",
       "      <th>color</th>\n",
       "      <th>price</th>\n",
       "    </tr>\n",
       "  </thead>\n",
       "  <tbody>\n",
       "    <tr>\n",
       "      <th>0</th>\n",
       "      <td>red</td>\n",
       "      <td>12</td>\n",
       "    </tr>\n",
       "    <tr>\n",
       "      <th>1</th>\n",
       "      <td>blue</td>\n",
       "      <td>13</td>\n",
       "    </tr>\n",
       "  </tbody>\n",
       "</table>\n",
       "</div>"
      ],
      "text/plain": [
       "  color price\n",
       "0   red    12\n",
       "1  blue    13"
      ]
     },
     "execution_count": 2,
     "metadata": {},
     "output_type": "execute_result"
    }
   ],
   "source": [
    "create_catalog()"
   ]
  },
  {
   "cell_type": "code",
   "execution_count": 3,
   "metadata": {},
   "outputs": [
    {
     "name": "stdout",
     "output_type": "stream",
     "text": [
      "What is the ID of this customer? Cassie\n",
      "How much red product is this customer purchasing?1\n",
      "[{'selected color': 'red', 'product price': '12', 'amount purchased': '1'}]\n",
      "How much blue product is this customer purchasing?1\n",
      "[{'selected color': 'red', 'product price': '12', 'amount purchased': '1'}, {'selected color': 'blue', 'product price': '13', 'amount purchased': '1'}]\n",
      "Would you like to add more order? (please eneter'yes' or 'no') yes\n",
      "        price\n",
      "Cassie   25.0\n",
      "What is the ID of this customer? Amy\n",
      "How much red product is this customer purchasing?2\n",
      "[{'selected color': 'red', 'product price': '12', 'amount purchased': '2'}]\n",
      "How much blue product is this customer purchasing?1\n",
      "[{'selected color': 'red', 'product price': '12', 'amount purchased': '2'}, {'selected color': 'blue', 'product price': '13', 'amount purchased': '1'}]\n",
      "Would you like to add more order? (please eneter'yes' or 'no') yes\n",
      "        price\n",
      "Cassie   25.0\n",
      "Amy      37.0\n",
      "What is the ID of this customer? Peter\n",
      "How much red product is this customer purchasing?3\n",
      "[{'selected color': 'red', 'product price': '12', 'amount purchased': '3'}]\n",
      "How much blue product is this customer purchasing?0\n",
      "[{'selected color': 'red', 'product price': '12', 'amount purchased': '3'}, {'selected color': 'blue', 'product price': '13', 'amount purchased': '0'}]\n",
      "Would you like to add more order? (please eneter'yes' or 'no') no\n",
      "        price\n",
      "Cassie   25.0\n",
      "Amy      37.0\n",
      "Peter    36.0\n",
      "What is the design fee?40\n",
      "What is the mold fee?50\n",
      "What is the amount of people spilting the fee?3\n",
      "What is the delivery fee? 5\n",
      "The splited fee for everyone is: 35.0\n"
     ]
    },
    {
     "data": {
      "text/html": [
       "<div>\n",
       "<style scoped>\n",
       "    .dataframe tbody tr th:only-of-type {\n",
       "        vertical-align: middle;\n",
       "    }\n",
       "\n",
       "    .dataframe tbody tr th {\n",
       "        vertical-align: top;\n",
       "    }\n",
       "\n",
       "    .dataframe thead th {\n",
       "        text-align: right;\n",
       "    }\n",
       "</style>\n",
       "<table border=\"1\" class=\"dataframe\">\n",
       "  <thead>\n",
       "    <tr style=\"text-align: right;\">\n",
       "      <th></th>\n",
       "      <th>price</th>\n",
       "    </tr>\n",
       "  </thead>\n",
       "  <tbody>\n",
       "    <tr>\n",
       "      <th>Cassie</th>\n",
       "      <td>60.0</td>\n",
       "    </tr>\n",
       "    <tr>\n",
       "      <th>Amy</th>\n",
       "      <td>72.0</td>\n",
       "    </tr>\n",
       "    <tr>\n",
       "      <th>Peter</th>\n",
       "      <td>71.0</td>\n",
       "    </tr>\n",
       "  </tbody>\n",
       "</table>\n",
       "</div>"
      ],
      "text/plain": [
       "        price\n",
       "Cassie   60.0\n",
       "Amy      72.0\n",
       "Peter    71.0"
      ]
     },
     "execution_count": 3,
     "metadata": {},
     "output_type": "execute_result"
    }
   ],
   "source": [
    "create_order()"
   ]
  },
  {
   "cell_type": "code",
   "execution_count": 4,
   "metadata": {},
   "outputs": [
    {
     "name": "stdout",
     "output_type": "stream",
     "text": [
      "What is the ID of this customer that made payment? Peter\n",
      "How much does Peter paid? 70\n",
      "What is the ID of this customer that made payment? Amy\n",
      "How much does Amy paid? 72\n",
      "What is the ID of this customer that made payment? Cassie\n",
      "How much does Cassie paid? 62\n",
      "This is your list of payment:\n"
     ]
    },
    {
     "data": {
      "text/html": [
       "<div>\n",
       "<style scoped>\n",
       "    .dataframe tbody tr th:only-of-type {\n",
       "        vertical-align: middle;\n",
       "    }\n",
       "\n",
       "    .dataframe tbody tr th {\n",
       "        vertical-align: top;\n",
       "    }\n",
       "\n",
       "    .dataframe thead th {\n",
       "        text-align: right;\n",
       "    }\n",
       "</style>\n",
       "<table border=\"1\" class=\"dataframe\">\n",
       "  <thead>\n",
       "    <tr style=\"text-align: right;\">\n",
       "      <th></th>\n",
       "      <th>paid</th>\n",
       "    </tr>\n",
       "  </thead>\n",
       "  <tbody>\n",
       "    <tr>\n",
       "      <th>Peter</th>\n",
       "      <td>70.0</td>\n",
       "    </tr>\n",
       "    <tr>\n",
       "      <th>Amy</th>\n",
       "      <td>72.0</td>\n",
       "    </tr>\n",
       "    <tr>\n",
       "      <th>Cassie</th>\n",
       "      <td>62.0</td>\n",
       "    </tr>\n",
       "  </tbody>\n",
       "</table>\n",
       "</div>"
      ],
      "text/plain": [
       "        paid\n",
       "Peter   70.0\n",
       "Amy     72.0\n",
       "Cassie  62.0"
      ]
     },
     "execution_count": 4,
     "metadata": {},
     "output_type": "execute_result"
    }
   ],
   "source": [
    "create_payment()"
   ]
  },
  {
   "cell_type": "code",
   "execution_count": 5,
   "metadata": {},
   "outputs": [
    {
     "name": "stdout",
     "output_type": "stream",
     "text": [
      "This is a list of orders and payment:\n"
     ]
    },
    {
     "data": {
      "text/html": [
       "<div>\n",
       "<style scoped>\n",
       "    .dataframe tbody tr th:only-of-type {\n",
       "        vertical-align: middle;\n",
       "    }\n",
       "\n",
       "    .dataframe tbody tr th {\n",
       "        vertical-align: top;\n",
       "    }\n",
       "\n",
       "    .dataframe thead th {\n",
       "        text-align: right;\n",
       "    }\n",
       "</style>\n",
       "<table border=\"1\" class=\"dataframe\">\n",
       "  <thead>\n",
       "    <tr style=\"text-align: right;\">\n",
       "      <th></th>\n",
       "      <th>price</th>\n",
       "      <th>paid</th>\n",
       "    </tr>\n",
       "  </thead>\n",
       "  <tbody>\n",
       "    <tr>\n",
       "      <th>Cassie</th>\n",
       "      <td>60.0</td>\n",
       "      <td>62.0</td>\n",
       "    </tr>\n",
       "    <tr>\n",
       "      <th>Amy</th>\n",
       "      <td>72.0</td>\n",
       "      <td>72.0</td>\n",
       "    </tr>\n",
       "    <tr>\n",
       "      <th>Peter</th>\n",
       "      <td>71.0</td>\n",
       "      <td>70.0</td>\n",
       "    </tr>\n",
       "  </tbody>\n",
       "</table>\n",
       "</div>"
      ],
      "text/plain": [
       "        price  paid\n",
       "Cassie   60.0  62.0\n",
       "Amy      72.0  72.0\n",
       "Peter    71.0  70.0"
      ]
     },
     "execution_count": 5,
     "metadata": {},
     "output_type": "execute_result"
    }
   ],
   "source": [
    "compare()"
   ]
  },
  {
   "cell_type": "code",
   "execution_count": 6,
   "metadata": {},
   "outputs": [
    {
     "name": "stdout",
     "output_type": "stream",
     "text": [
      "@Cassie, you paid extra 2.0. I will return the amount to you.\n",
      "@Amy, thank you so much!\n",
      "@Peter, please pay 1.0. Thank you for your support!\n"
     ]
    }
   ],
   "source": [
    "reminder()"
   ]
  },
  {
   "cell_type": "code",
   "execution_count": 7,
   "metadata": {},
   "outputs": [],
   "source": [
    "# test it out\n",
    "#The entire code is difficult to test so I only test if it is callable \n",
    "#because of the first variable being a input and every functions are connected and continuous \n",
    "#I also have to use notebook not a textfile"
   ]
  },
  {
   "cell_type": "markdown",
   "metadata": {},
   "source": [
    "#### Extra Credit (*optional*)\n",
    "\n",
    "Replace all of this text with a brief explanation (~3 sentences) of: \n",
    "1. Your Python Background\n",
    "2. How your project went above and beyond the requirements of the project and/or how you challenged yourself to learn something new with the final project\n",
    "\n",
    "I have briefly learned about the basics of python but it is way less than what I have learned this course. For this project, I learned about using methods of DataFrame and global variable. "
   ]
  }
 ],
 "metadata": {
  "kernelspec": {
   "display_name": "Python 3 (ipykernel)",
   "language": "python",
   "name": "python3"
  },
  "language_info": {
   "codemirror_mode": {
    "name": "ipython",
    "version": 3
   },
   "file_extension": ".py",
   "mimetype": "text/x-python",
   "name": "python",
   "nbconvert_exporter": "python",
   "pygments_lexer": "ipython3",
   "version": "3.9.5"
  }
 },
 "nbformat": 4,
 "nbformat_minor": 2
}
